{
 "cells": [
  {
   "cell_type": "code",
   "execution_count": 1,
   "metadata": {},
   "outputs": [
    {
     "name": "stdout",
     "output_type": "stream",
     "text": [
      "0.4.1.post2\n"
     ]
    },
    {
     "data": {
      "text/html": [
       "<style>.container { width:90% !important; }</style>"
      ],
      "text/plain": [
       "<IPython.core.display.HTML object>"
      ]
     },
     "metadata": {},
     "output_type": "display_data"
    }
   ],
   "source": [
    "%matplotlib inline\n",
    "import os, sys, datetime, glob\n",
    "from collections import OrderedDict\n",
    "from functools import partial\n",
    "from importlib import reload\n",
    "import numpy as np\n",
    "\n",
    "import matplotlib.pyplot as plt\n",
    "\n",
    "import torch\n",
    "print(torch.__version__)\n",
    "\n",
    "from IPython.core.display import display, HTML, clear_output\n",
    "display(HTML(\"<style>.container { width:90% !important; }</style>\"))\n",
    "\n",
    "sys.path.append('..')\n",
    "import trainimagesource, trainutils, pytorchutils, pytorchnet,datasource\n",
    "\n",
    "plt.rcParams['image.cmap'] = 'gray'\n",
    "plt.rcParams['image.interpolation']='none'\n",
    "\n",
    "os.environ['CUDA_VISIBLE_DEVICES'] = '1'\n",
    "   \n",
    "latentShape=100\n",
    "batchSize=500\n",
    "learningRate=2e-4\n",
    "betas=(0.5,0.999)\n",
    "isCuda=True\n",
    "\n",
    "discparams={\n",
    "    'batchSize':batchSize,\n",
    "    'learningRate':learningRate,\n",
    "    'betas':betas,\n",
    "    'isCuda':isCuda,\n",
    "    \n",
    "    'inShape':(28,28,1),\n",
    "    'trainSteps':5,\n",
    "    'substeps':1,\n",
    "    'channels':(8, 16, 32, 64, 1), \n",
    "    'strides': (2,  2,  2,  2, 1),\n",
    "    'numSubunits':1,\n",
    "    'kernelSize':5,\n",
    "    'savedirprefix':None,\n",
    "}    \n",
    "\n",
    "genparams={\n",
    "    'batchSize':batchSize,\n",
    "    'learningRate':learningRate,\n",
    "    'betas':betas,\n",
    "    'isCuda':isCuda,\n",
    "    \n",
    "    'latentShape':latentShape,\n",
    "    'startShape':(7,7,64), # startShape, channels, and strides chosen carefully to produce (1,28,28) output\n",
    "    'trainSteps':1000,\n",
    "    'substeps':1,\n",
    "    'channels':(64, 32, 1), \n",
    "    'strides': ( 2,  2, 1),\n",
    "    'numSubunits':0,\n",
    "    'kernelSize':3,\n",
    "}"
   ]
  },
  {
   "cell_type": "code",
   "execution_count": 2,
   "metadata": {},
   "outputs": [
    {
     "name": "stdout",
     "output_type": "stream",
     "text": [
      "float32 (1, 1, 28, 28) float32 (1, 1)\n"
     ]
    },
    {
     "data": {
      "text/plain": [
       "<matplotlib.image.AxesImage at 0x7f96d4e40128>"
      ]
     },
     "execution_count": 2,
     "metadata": {},
     "output_type": "execute_result"
    },
    {
     "data": {
      "image/png": "[encoded data removed]",
      "text/plain": [
       "<Figure size 432x288 with 1 Axes>"
      ]
     },
     "metadata": {},
     "output_type": "display_data"
    }
   ],
   "source": [
    "dat=np.load('mnist.npz')\n",
    "\n",
    "trainImg=dat['trainImg'].astype(np.float32)\n",
    "trainCat=np.full((trainImg.shape[0],1),pytorchutils.DiscriminatorMgr.realLabel,np.float32)\n",
    "\n",
    "src=datasource.DataSource(trainImg[...,np.newaxis]/trainImg.max(),trainCat,augments=[pytorchutils.convertFirst])\n",
    "\n",
    "with src.threadBatchGen(1) as gen:\n",
    "    im,cat=gen()\n",
    "    \n",
    "print(im.dtype,im.shape,cat.dtype,cat.shape)\n",
    "plt.imshow(im[0,0])"
   ]
  },
  {
   "cell_type": "code",
   "execution_count": 3,
   "metadata": {},
   "outputs": [
    {
     "name": "stdout",
     "output_type": "stream",
     "text": [
      "(1, 100, 1) [-0.98943627 -0.17657457 -0.47047973 -0.44370726 -0.34981164  0.1773368\n",
      " -0.75633675  0.65174526 -1.1137246  -0.38331312]\n"
     ]
    }
   ],
   "source": [
    "gensrc=datasource.randomDataSource((latentShape,1))\n",
    "\n",
    "with gensrc.threadBatchGen(1) as gen:\n",
    "    latent,_=gen()\n",
    "    print(latent.shape,latent.flatten()[:10])"
   ]
  },
  {
   "cell_type": "code",
   "execution_count": 4,
   "metadata": {},
   "outputs": [
    {
     "name": "stdout",
     "output_type": "stream",
     "text": [
      "Discriminator output: 0.5062021613121033\n",
      "Generator output size: torch.Size([1, 1, 28, 28])\n"
     ]
    }
   ],
   "source": [
    "netDisc=trainutils.applyArgMap(pytorchnet.Discriminator,**discparams)\n",
    "netGen=trainutils.applyArgMap(pytorchnet.Generator,**genparams)\n",
    "\n",
    "netGen.conv.add_module('activation',torch.nn.Sigmoid()) # set final activation to sigmoid since MNIST is on [0,1] interval\n",
    "\n",
    "netDisc.apply(pytorchnet.normalInit)\n",
    "netGen.apply(pytorchnet.normalInit)\n",
    "\n",
    "testim=torch.from_numpy(im)\n",
    "testlatent=torch.from_numpy(latent).float()\n",
    "print('Discriminator output:',netDisc(testim)[0].item())\n",
    "print('Generator output size:',netGen(testlatent)[0].shape)"
   ]
  },
  {
   "cell_type": "code",
   "execution_count": 5,
   "metadata": {
    "scrolled": false
   },
   "outputs": [],
   "source": [
    "class GeneratorNBMgr(pytorchutils.GeneratorMgr,trainutils.JupyterThreadMonitor):\n",
    "    def __init__(self,net,src,disc,savedirprefix=None,loss=None,**params):\n",
    "        self.src=src\n",
    "        trainutils.JupyterThreadMonitor.__init__(self)\n",
    "        pytorchutils.GeneratorMgr.__init__(self,net,disc,savedirprefix,loss,**params)\n",
    "        \n",
    "        disc.saveprefix='disc'\n",
    "        disc.logfilename='disctrain.log'\n",
    "        \n",
    "        self.saveprefix='gen'\n",
    "        self.logfilename='gentrain.log'\n",
    "        \n",
    "    def run(self):\n",
    "        with self.src.threadBatchGen(self.params['batchSize']) as gen:\n",
    "            self.train(gen,self.params['trainSteps'],self.params['substeps'])\n",
    "    \n",
    "    def trainStep(self,numSubsteps):\n",
    "        dparams=self.disc.params\n",
    "        self.disc.trainDiscriminator(dparams['batchSize'],dparams['trainSteps'],dparams['substeps'])\n",
    "        pytorchutils.GeneratorMgr.trainStep(self,numSubsteps)\n",
    "            \n",
    "    def evalStep(self,index,steploss,results):\n",
    "        results.append(self.toNumpy(self.netoutputs[0]))\n",
    "        \n",
    "    def saveStep(self,step,steploss):\n",
    "        self.disc.save(os.path.join(self.disc.savedir,self.disc.saveprefix+'_%.6i.pth'%step))\n",
    "    \n",
    "    def updateStep(self,step,steploss):\n",
    "        pytorchutils.GeneratorMgr.updateStep(self,step,steploss)\n",
    "        \n",
    "        lossvals={\n",
    "            'lossGen':steploss,\n",
    "            'lossDisc':self.disc.lossoutput.mean().item() if self.disc.lossoutput else 0\n",
    "        }\n",
    "        \n",
    "        self.updateGraphVals(lossvals,tuple(lossvals.keys()))\n",
    "        \n",
    "        if step<10 or step%20==0:\n",
    "            images,images2=self.traininputs\n",
    "            gens=self.toNumpy(self.netoutputs[0])\n",
    "            tile=trainutils.tileStack(gens[:30],10,3)\n",
    "            self.updateImageVals({'Generated Images':tile.transpose(1,2,0)})\n",
    "\n",
    "\n",
    "discmgr=pytorchutils.DiscriminatorMgr(netDisc,src,**discparams)\n",
    "genmgr=GeneratorNBMgr(netGen,gensrc,discmgr,savedirprefix=discmgr.savedir,**genparams)\n",
    "\n",
    "genmgr.start()"
   ]
  },
  {
   "cell_type": "code",
   "execution_count": 1,
   "metadata": {},
   "outputs": [
    {
     "ename": "NameError",
     "evalue": "name 'genmgr' is not defined",
     "output_type": "error",
     "traceback": [
      "\u001b[0;31m---------------------------------------------------------------------------\u001b[0m",
      "\u001b[0;31mNameError\u001b[0m                                 Traceback (most recent call last)",
      "\u001b[0;32m<ipython-input-1-0b78ef85e65a>\u001b[0m in \u001b[0;36m<module>\u001b[0;34m()\u001b[0m\n\u001b[0;32m----> 1\u001b[0;31m \u001b[0mgenmgr\u001b[0m\u001b[0;34m.\u001b[0m\u001b[0mdisplayMonitor\u001b[0m\u001b[0;34m(\u001b[0m\u001b[0;34m)\u001b[0m\u001b[0;34m\u001b[0m\u001b[0;34m\u001b[0m\u001b[0m\n\u001b[0m",
      "\u001b[0;31mNameError\u001b[0m: name 'genmgr' is not defined"
     ]
    }
   ],
   "source": [
    "genmgr.displayMonitor()"
   ]
  }
 ],
 "metadata": {
  "kernelspec": {
   "display_name": "Python 3",
   "language": "python",
   "name": "python3"
  },
  "language_info": {
   "codemirror_mode": {
    "name": "ipython",
    "version": 3
   },
   "file_extension": ".py",
   "mimetype": "text/x-python",
   "name": "python",
   "nbconvert_exporter": "python",
   "pygments_lexer": "ipython3",
   "version": "3.6.7"
  }
 },
 "nbformat": 4,
 "nbformat_minor": 2
}
