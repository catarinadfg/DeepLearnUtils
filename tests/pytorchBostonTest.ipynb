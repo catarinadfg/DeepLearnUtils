{
 "cells": [
  {
   "cell_type": "code",
   "execution_count": 1,
   "metadata": {},
   "outputs": [
    {
     "name": "stdout",
     "output_type": "stream",
     "text": [
      "0.4.1\n"
     ]
    },
    {
     "data": {
      "text/html": [
       "<style>.container { width:90% !important; }</style>"
      ],
      "text/plain": [
       "<IPython.core.display.HTML object>"
      ]
     },
     "metadata": {},
     "output_type": "display_data"
    }
   ],
   "source": [
    "%matplotlib inline\n",
    "import os, sys\n",
    "from importlib import reload\n",
    "import numpy as np\n",
    "\n",
    "import matplotlib.pyplot as plt\n",
    "\n",
    "import torch\n",
    "print(torch.__version__)\n",
    "\n",
    "from IPython.core.display import display, HTML, clear_output\n",
    "display(HTML(\"<style>.container { width:90% !important; }</style>\"))\n",
    "\n",
    "sys.path.append('..')\n",
    "import pytorchnet\n",
    "\n",
    "os.environ['CUDA_VISIBLE_DEVICES'] = '1'"
   ]
  },
  {
   "cell_type": "code",
   "execution_count": 3,
   "metadata": {},
   "outputs": [
    {
     "name": "stdout",
     "output_type": "stream",
     "text": [
      "(456, 14) (50, 14)\n"
     ]
    }
   ],
   "source": [
    "boston=np.load('boston.npz')\n",
    "data=boston['data']\n",
    "\n",
    "np.random.shuffle(data)\n",
    "\n",
    "test=data[:50]\n",
    "train=data[50:]\n",
    "print(train.shape,test.shape)"
   ]
  },
  {
   "cell_type": "code",
   "execution_count": 93,
   "metadata": {},
   "outputs": [
    {
     "name": "stdout",
     "output_type": "stream",
     "text": [
      "10000 10.968870162963867\n",
      "20000 8.318648338317871\n",
      "30000 7.362969875335693\n",
      "40000 6.836792945861816\n",
      "50000 5.649820804595947\n",
      "60000 5.942462921142578\n",
      "70000 5.115471363067627\n",
      "80000 6.59487771987915\n",
      "90000 5.155945777893066\n",
      "100000 4.741133213043213\n"
     ]
    },
    {
     "data": {
      "text/plain": [
       "[<matplotlib.lines.Line2D at 0x1c16e940>]"
      ]
     },
     "execution_count": 93,
     "metadata": {},
     "output_type": "execute_result"
    },
    {
     "data": {
      "image/png": "[encoded data removed]",
      "text/plain": [
       "<Figure size 432x288 with 1 Axes>"
      ]
     },
     "metadata": {
      "needs_background": "light"
     },
     "output_type": "display_data"
    }
   ],
   "source": [
    "class DropoutNet(pytorchnet.LinearNet):\n",
    "    def _getLayer(self,inChannels,outChannels,bias):\n",
    "        return torch.nn.Sequential(\n",
    "            torch.nn.Linear(inChannels,outChannels,bias),\n",
    "            torch.nn.Dropout(0.25),\n",
    "            torch.nn.PReLU()\n",
    "        )\n",
    "\n",
    "net=DropoutNet(train.shape[1]-1,1,[50,50,50])\n",
    "net.apply(pytorchnet.normalInit)\n",
    "\n",
    "xt=torch.from_numpy(train[:,:-1]).float()\n",
    "yt=torch.from_numpy(train[:,-1:]).float()\n",
    "\n",
    "loss=torch.nn.MSELoss()\n",
    "opt=torch.optim.Adam(net.parameters())\n",
    "\n",
    "iters=100000\n",
    "losses=[]\n",
    "\n",
    "for i in range(1,iters+1):\n",
    "    opt.zero_grad()\n",
    "    prices=net(xt)\n",
    "    lossval=loss(prices,yt)\n",
    "    \n",
    "    lossval.backward()\n",
    "    opt.step()\n",
    "    \n",
    "    losses.append(lossval.item())\n",
    "    \n",
    "    if i%(iters//10)==0:\n",
    "        print(i,losses[-1])\n",
    "        \n",
    "plt.plot(losses)"
   ]
  },
  {
   "cell_type": "code",
   "execution_count": 94,
   "metadata": {},
   "outputs": [
    {
     "name": "stdout",
     "output_type": "stream",
     "text": [
      "2.11159606552124\n"
     ]
    },
    {
     "data": {
      "text/plain": [
       "[<matplotlib.lines.Line2D at 0x1c6811d0>]"
      ]
     },
     "execution_count": 94,
     "metadata": {},
     "output_type": "execute_result"
    },
    {
     "data": {
      "image/png": "[encoded data removed]",
      "text/plain": [
       "<Figure size 432x288 with 1 Axes>"
      ]
     },
     "metadata": {
      "needs_background": "light"
     },
     "output_type": "display_data"
    }
   ],
   "source": [
    "inds=sorted(range(test.shape[0]),key=lambda i:test[i,-1])\n",
    "testsorted=test[inds]\n",
    "\n",
    "with torch.no_grad():\n",
    "    net.eval()\n",
    "    testxt=torch.from_numpy(testsorted[:,:-1]).float()\n",
    "    testprices=net(testxt).data.numpy()\n",
    "\n",
    "print(np.average(np.absolute(testsorted[:,-1]-testprices[:,0])))\n",
    "plt.plot(testsorted[:,-1])\n",
    "plt.plot(testprices[:,0])"
   ]
  }
 ],
 "metadata": {
  "kernelspec": {
   "display_name": "Python 3",
   "language": "python",
   "name": "python3"
  },
  "language_info": {
   "codemirror_mode": {
    "name": "ipython",
    "version": 3
   },
   "file_extension": ".py",
   "mimetype": "text/x-python",
   "name": "python",
   "nbconvert_exporter": "python",
   "pygments_lexer": "ipython3",
   "version": "3.6.5"
  }
 },
 "nbformat": 4,
 "nbformat_minor": 2
}
